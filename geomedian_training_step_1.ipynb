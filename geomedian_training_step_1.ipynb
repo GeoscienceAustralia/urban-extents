{
 "cells": [
  {
   "cell_type": "code",
   "execution_count": 1,
   "metadata": {},
   "outputs": [],
   "source": [
    "%matplotlib inline\n",
    "\n",
    "import numpy as np\n",
    "import matplotlib.pyplot as plt\n",
    "from numpy import genfromtxt\n",
    "from spectral import *\n",
    "\n",
    "import urban_module as ubm"
   ]
  },
  {
   "cell_type": "code",
   "execution_count": 2,
   "metadata": {},
   "outputs": [],
   "source": [
    "def bin_entropy(distarr, c1, c2, num_bins):\n",
    "    enp = np.zeros(num_bins)\n",
    "    for i in np.arange(num_bins):\n",
    "        p1=np.double(distarr[i, c1])\n",
    "        p2=np.double(distarr[i, c2])\n",
    "        r1=(p1+1)/(p1+p2+2)\n",
    "        r2=(p2+1)/(p1+p2+2)\n",
    "        if (p1+p2!=0):\n",
    "            enp[i]=-(p1*np.log2(r1)+p2*np.log2(r2))/(p1+p2)\n",
    "        else:\n",
    "            enp[i]=1\n",
    "\n",
    "    return enp"
   ]
  },
  {
   "cell_type": "code",
   "execution_count": 3,
   "metadata": {},
   "outputs": [],
   "source": [
    "def hist_distribution(tgtband, bandnames, oneimg, clsarr, numcls, num_bins):\n",
    "    ftidx=bandnames.index(tgtband)\n",
    "    ftvals=oneimg[ftidx,:]\n",
    "   \n",
    "    xlmin=ftvals.min()\n",
    "    xrmax=ftvals.max()\n",
    "    pidxlist=[]\n",
    "    \n",
    "    distarr = np.zeros((num_bins, numcls),dtype=np.uint64)\n",
    "    binsize=(xrmax-xlmin)/num_bins\n",
    "    bounds=np.zeros((num_bins, 2))\n",
    "   \n",
    "    for i in np.arange(num_bins):\n",
    "        bounds[i, 0] = xlmin+i*binsize\n",
    "        if (i!=num_bins-1):\n",
    "            bounds[i, 1] = xlmin+(i+1)*binsize\n",
    "        else:\n",
    "            bounds[i, 1] = xrmax\n",
    "    \n",
    "    for i in np.arange(num_bins):\n",
    "        if (i!=num_bins-1):\n",
    "            fbidx=np.where(np.logical_and(ftvals>=bounds[i,0], ftvals<bounds[i,1]))[0]\n",
    "        else:\n",
    "            fbidx=np.where(np.logical_and(ftvals>=bounds[i,0], ftvals<=bounds[i,1]))[0]\n",
    "        \n",
    "        pidxlist.append(fbidx)\n",
    "        items = clsarr[fbidx]\n",
    "        for j in np.arange(numcls):\n",
    "            distarr[i, j]=np.count_nonzero(items==j)\n",
    "            \n",
    "        \n",
    "       \n",
    "    return bounds, distarr, pidxlist"
   ]
  },
  {
   "cell_type": "code",
   "execution_count": null,
   "metadata": {},
   "outputs": [],
   "source": []
  },
  {
   "cell_type": "code",
   "execution_count": null,
   "metadata": {},
   "outputs": [],
   "source": []
  },
  {
   "cell_type": "code",
   "execution_count": null,
   "metadata": {},
   "outputs": [],
   "source": []
  },
  {
   "cell_type": "code",
   "execution_count": null,
   "metadata": {},
   "outputs": [],
   "source": []
  },
  {
   "cell_type": "code",
   "execution_count": 4,
   "metadata": {},
   "outputs": [],
   "source": [
    "path='/g/data/u46/pjt554/urban_geomedian_data/canberra/2018'\n",
    "\n",
    "modeldirc= '/g/data1/u46/pjt554/urban_extent_s2'\n",
    "featurelist=['TSC_BRI', 'MSAVI', 'MNDWI', 'NDVI', 'NDTI', 'DBSI', 'BUI', 'SAVI', \n",
    "              'VAUI', 'NDWI','MVAUI', 'WVAUI', 'BSI', 'vv_mean','vv_std', 'vv_range','vh_mean', 'vh_std','vh_range']"
   ]
  },
  {
   "cell_type": "code",
   "execution_count": 5,
   "metadata": {},
   "outputs": [
    {
     "name": "stdout",
     "output_type": "stream",
     "text": [
      "19\n",
      "(2241176,)\n",
      "(2241176,)\n",
      "(2241176,)\n",
      "(2241176,)\n",
      "(2241176,)\n",
      "(2241176,)\n",
      "(2241176,)\n",
      "(2241176,)\n",
      "(2241176,)\n",
      "(2241176,)\n",
      "(2241176,)\n",
      "(2241176,)\n",
      "(2241176,)\n",
      "(2241176,)\n",
      "(2241176,)\n",
      "(2241176,)\n",
      "(2241176,)\n",
      "(2241176,)\n",
      "(2241176,)\n"
     ]
    }
   ],
   "source": [
    "datastack=[]\n",
    "\n",
    "sbm=len(featurelist)\n",
    "print(sbm)\n",
    "\n",
    "for name in featurelist:\n",
    "    h, oneband, pnum = ubm.load_envi_data_float(path, name)\n",
    "    oneband=oneband[0]\n",
    "    datastack.append(oneband)\n",
    "    print(oneband.shape)"
   ]
  },
  {
   "cell_type": "code",
   "execution_count": 6,
   "metadata": {},
   "outputs": [
    {
     "ename": "AttributeError",
     "evalue": "module 'urban_module' has no attribute 'load_envi_data_char'",
     "output_type": "error",
     "traceback": [
      "\u001b[0;31m---------------------------------------------------------------------------\u001b[0m",
      "\u001b[0;31mAttributeError\u001b[0m                            Traceback (most recent call last)",
      "\u001b[0;32m<ipython-input-6-918cce68b7ac>\u001b[0m in \u001b[0;36m<module>\u001b[0;34m\u001b[0m\n\u001b[1;32m      1\u001b[0m \u001b[0mfilename\u001b[0m\u001b[0;34m=\u001b[0m\u001b[0;34m'urban_spec_5c'\u001b[0m\u001b[0;34m\u001b[0m\u001b[0;34m\u001b[0m\u001b[0m\n\u001b[0;32m----> 2\u001b[0;31m \u001b[0mh\u001b[0m\u001b[0;34m,\u001b[0m \u001b[0mclsarr\u001b[0m\u001b[0;34m,\u001b[0m \u001b[0mpnum\u001b[0m \u001b[0;34m=\u001b[0m \u001b[0mubm\u001b[0m\u001b[0;34m.\u001b[0m\u001b[0mload_envi_data_char\u001b[0m\u001b[0;34m(\u001b[0m\u001b[0mpath\u001b[0m\u001b[0;34m,\u001b[0m \u001b[0mfilename\u001b[0m\u001b[0;34m)\u001b[0m\u001b[0;34m\u001b[0m\u001b[0;34m\u001b[0m\u001b[0m\n\u001b[0m\u001b[1;32m      3\u001b[0m \u001b[0mclsarr\u001b[0m\u001b[0;34m=\u001b[0m\u001b[0mclsarr\u001b[0m\u001b[0;34m[\u001b[0m\u001b[0;36m0\u001b[0m\u001b[0;34m]\u001b[0m\u001b[0;34m\u001b[0m\u001b[0;34m\u001b[0m\u001b[0m\n\u001b[1;32m      4\u001b[0m \u001b[0moneimg\u001b[0m\u001b[0;34m=\u001b[0m\u001b[0mnp\u001b[0m\u001b[0;34m.\u001b[0m\u001b[0mzeros\u001b[0m\u001b[0;34m(\u001b[0m\u001b[0;34m(\u001b[0m\u001b[0msbm\u001b[0m\u001b[0;34m,\u001b[0m \u001b[0mpnum\u001b[0m\u001b[0;34m)\u001b[0m\u001b[0;34m,\u001b[0m \u001b[0mdtype\u001b[0m\u001b[0;34m=\u001b[0m\u001b[0mnp\u001b[0m\u001b[0;34m.\u001b[0m\u001b[0mfloat32\u001b[0m\u001b[0;34m)\u001b[0m\u001b[0;34m\u001b[0m\u001b[0;34m\u001b[0m\u001b[0m\n\u001b[1;32m      5\u001b[0m \u001b[0;32mfor\u001b[0m \u001b[0mi\u001b[0m \u001b[0;32min\u001b[0m \u001b[0mnp\u001b[0m\u001b[0;34m.\u001b[0m\u001b[0marange\u001b[0m\u001b[0;34m(\u001b[0m\u001b[0msbm\u001b[0m\u001b[0;34m)\u001b[0m\u001b[0;34m:\u001b[0m\u001b[0;34m\u001b[0m\u001b[0;34m\u001b[0m\u001b[0m\n",
      "\u001b[0;31mAttributeError\u001b[0m: module 'urban_module' has no attribute 'load_envi_data_char'"
     ]
    }
   ],
   "source": [
    "filename='urban_spec_5c'\n",
    "h, clsarr, pnum = ubm.load_envi_data_char(path, filename)\n",
    "clsarr=clsarr[0]\n",
    "oneimg=np.zeros((sbm, pnum), dtype=np.float32)\n",
    "for i in np.arange(sbm):\n",
    "    oneimg[i, :]=datastack[i]"
   ]
  },
  {
   "cell_type": "code",
   "execution_count": null,
   "metadata": {},
   "outputs": [],
   "source": [
    "\n",
    "num_bins=100\n",
    "for tgtband in featurelist:\n",
    "    ubm.draw_index_hist(tgtband, featurelist, oneimg, clsarr, num_bins)"
   ]
  },
  {
   "cell_type": "code",
   "execution_count": null,
   "metadata": {},
   "outputs": [],
   "source": [
    "tgtband='MVAUI'\n",
    "num_bins=100\n",
    "ubm.draw_index_hist(tgtband, featurelist, oneimg, clsarr, num_bins)"
   ]
  },
  {
   "cell_type": "code",
   "execution_count": null,
   "metadata": {},
   "outputs": [],
   "source": [
    "numcls=4\n",
    "bounds, distarr, pidxlist = hist_distribution(tgtband, featurelist, oneimg, clsarr, numcls, num_bins)\n",
    "enp = bin_entropy(distarr, 1, 3, num_bins)\n"
   ]
  },
  {
   "cell_type": "code",
   "execution_count": null,
   "metadata": {},
   "outputs": [],
   "source": [
    "def create_training_sets(enp, thd, pidxlist, distarr, clsarr, num_bins, c1, c2):\n",
    "    c1_train=[]\n",
    "    c2_train=[]\n",
    "    binlist=np.where(enp<thd)[0]\n",
    "    for binidx in binlist:\n",
    "        fx = pidxlist[binidx]\n",
    "        if distarr[binidx, c1]>distarr[binidx,c2]:\n",
    "            c1_idx=fx[clsarr[fx]==c1]\n",
    "            c1_train.append(c1_idx)\n",
    "           \n",
    "        else:\n",
    "            c2_idx=fx[clsarr[fx]==c2]\n",
    "            c2_train.append(c2_idx)\n",
    "           \n",
    "    \n",
    "    return c1_train, c2_train"
   ]
  },
  {
   "cell_type": "code",
   "execution_count": null,
   "metadata": {},
   "outputs": [],
   "source": [
    "thd=0.03\n",
    "c1=1\n",
    "c2=3\n",
    "c1_train, c2_train = create_training_sets(enp, thd, pidxlist, distarr, clsarr, num_bins, c1, c2)"
   ]
  },
  {
   "cell_type": "code",
   "execution_count": null,
   "metadata": {},
   "outputs": [],
   "source": [
    "def conclistarr(listarr):\n",
    "    ntr=len(listarr)\n",
    "    if ntr>0:\n",
    "        arr=listarr[0]\n",
    "        for i in np.arange(1, ntr):\n",
    "            arr=np.concatenate((arr, listarr[i]), axis=None)\n",
    "    else:\n",
    "        arr=np.asarray(listarr)\n",
    "    \n",
    "    return arr\n"
   ]
  },
  {
   "cell_type": "code",
   "execution_count": null,
   "metadata": {},
   "outputs": [],
   "source": [
    "def sets_by_sampling(idxset, ds):\n",
    "    abc=np.random.choice(idxset, 3*ds, replace='False')\n",
    "    train_set=abc[:ds]\n",
    "    val_set=abc[ds:2*ds]\n",
    "    test_set=abc[2*ds:]\n",
    "    \n",
    "    return train_set, val_set, test_set"
   ]
  },
  {
   "cell_type": "code",
   "execution_count": null,
   "metadata": {},
   "outputs": [],
   "source": [
    "def shuffle_array(ar1):\n",
    "    ntr=ar1.shape[0]\n",
    "    shfx=np.random.permutation(ntr)\n",
    "    ar1=ar1[shfx]\n",
    "    return ar1"
   ]
  },
  {
   "cell_type": "code",
   "execution_count": null,
   "metadata": {},
   "outputs": [],
   "source": [
    "def shuffle_pair(ar1, ar2):\n",
    "    ntr=ar1.shape[0]\n",
    "    shfx=np.random.permutation(ntr)\n",
    "    ar1=ar1[shfx]\n",
    "    ar2=ar2[shfx]\n",
    "    return ar1, ar2\n"
   ]
  },
  {
   "cell_type": "code",
   "execution_count": null,
   "metadata": {},
   "outputs": [],
   "source": [
    "gre_pixels = conclistarr(c1_train)\n",
    "urb_pixels = conclistarr(c2_train)\n",
    "ds=min(gre_pixels.shape[0], urb_pixels.shape[0])"
   ]
  },
  {
   "cell_type": "code",
   "execution_count": null,
   "metadata": {},
   "outputs": [],
   "source": [
    "print(ds)"
   ]
  },
  {
   "cell_type": "code",
   "execution_count": null,
   "metadata": {},
   "outputs": [],
   "source": [
    "if (ds>50000):\n",
    "    ds=50000"
   ]
  },
  {
   "cell_type": "code",
   "execution_count": null,
   "metadata": {},
   "outputs": [],
   "source": [
    "def find_feature_index(bandnames, feature_list):\n",
    "    ntr=len(feature_list)\n",
    "    flsarr=np.zeros(ntr, dtype=np.int32)\n",
    "    for i, feature in enumerate(feature_list):\n",
    "        ftidx=bandnames.index(feature)\n",
    "        flsarr[i]=ftidx\n",
    "        \n",
    "    return flsarr"
   ]
  },
  {
   "cell_type": "code",
   "execution_count": null,
   "metadata": {},
   "outputs": [],
   "source": [
    "allbands=['blue', 'green', 'red', 'nir', 'swir1', 'swir2']\n",
    "\n",
    "bm=len(allbands)\n",
    "inputdata=np.zeros((pnum, bm), dtype=np.float32)\n",
    "scale=np.float32(10000.0)\n",
    "\n",
    "\n",
    "for cc, bandname in enumerate(allbands):\n",
    "\n",
    "    \n",
    "    filename=path+'/NBAR_'+bandname+'.img'\n",
    "    banddata=np.fromfile(filename, dtype=np.int16)\n",
    "    dev=banddata/scale\n",
    "    inputdata[:, cc]=dev\n",
    "  "
   ]
  },
  {
   "cell_type": "code",
   "execution_count": null,
   "metadata": {},
   "outputs": [],
   "source": [
    "pnum, path"
   ]
  },
  {
   "cell_type": "code",
   "execution_count": null,
   "metadata": {},
   "outputs": [],
   "source": [
    "def create_sets(input_feature_list, wholedata, c1p_index, c1_tra_num, c1_tst_num, c2p_index, c2_tra_num, c2_tst_num, \n",
    "                 setname, path):\n",
    "    \n",
    "     \n",
    "    # Output the names of the input features to a text file\n",
    "    \n",
    "    feature_arr=np.asarray(input_feature_list)\n",
    "    filename=path+'/'+setname+'_feature_list'\n",
    "    np.savetxt(filename, feature_arr,  delimiter=',', fmt='%s')\n",
    "    \n",
    "    # prepare the index of training and testing data set\n",
    "    \n",
    "    c1p_index=shuffle_array(c1p_index)\n",
    "    c1_tra_index=c1p_index[:c1_tra_num]\n",
    "    c1_tst_index=c1p_index[c1_tra_num:c1_tra_num+c1_tst_num]\n",
    "    \n",
    "    c2p_index=shuffle_array(c2p_index)\n",
    "    c2_tra_index=c2p_index[:c2_tra_num]\n",
    "    c2_tst_index=c2p_index[c2_tra_num:c2_tra_num+c2_tst_num]\n",
    "    \n",
    "    #combine class #1 and class #2 pixels to form training and testing set\n",
    "    \n",
    "    tra_index=np.concatenate((c1_tra_index, c2_tra_index), axis=None)\n",
    "    tst_index=np.concatenate((c1_tst_index, c2_tst_index), axis=None)\n",
    "\n",
    "    # Generate class labels \n",
    "    y_train=np.zeros(c1_tra_num+c2_tra_num, dtype=np.float32)\n",
    "    y_train[c1_tra_num:]=1.0\n",
    "    y_test=np.zeros(c1_tst_num+c2_tst_num, dtype=np.float32)\n",
    "    y_test[c1_tst_num:]=1.0\n",
    "    \n",
    "    # Form training and tests data sets    \n",
    "    tra_index, y_train = shuffle_pair(tra_index, y_train)\n",
    "    tst_index, y_test = shuffle_pair(tst_index, y_test)\n",
    "    \n",
    "    x_train = wholedata[tra_index, :]\n",
    "    x_test =  wholedata[tst_index, :]\n",
    "    \n",
    "    # Output training and testing data as binary files \n",
    "    filename = setname+'_train_features'\n",
    "    fileoutput(path, filename , x_train)\n",
    " \n",
    "    filename = setname+'_train_labels'\n",
    "    fileoutput(path, filename , y_train)\n",
    "    \n",
    "    filename = setname+'_test_features'\n",
    "    fileoutput(path, filename , x_test)\n",
    " \n",
    "    filename = setname+'_test_labels'\n",
    "    fileoutput(path, filename , y_test)\n",
    "    "
   ]
  },
  {
   "cell_type": "code",
   "execution_count": null,
   "metadata": {},
   "outputs": [],
   "source": [
    "def fileoutput(path, filestem, data):\n",
    "    filename=path+'/'+filestem\n",
    "    data.tofile(filename)"
   ]
  },
  {
   "cell_type": "code",
   "execution_count": null,
   "metadata": {},
   "outputs": [],
   "source": [
    "c1_tra_num=int(ds*.8)\n",
    "c1_tst_num=int(ds*.2)\n",
    "c2_tra_num=c1_tra_num\n",
    "c2_tst_num=c1_tst_num"
   ]
  },
  {
   "cell_type": "code",
   "execution_count": null,
   "metadata": {},
   "outputs": [],
   "source": []
  },
  {
   "cell_type": "code",
   "execution_count": null,
   "metadata": {},
   "outputs": [],
   "source": [
    "create_sets(input_feature_list, inputdata, gre_pixels, c1_tra_num, c1_tst_num, urb_pixels, c2_tra_num, c2_tst_num, \n",
    "                 'veg_urb', path)"
   ]
  },
  {
   "cell_type": "code",
   "execution_count": null,
   "metadata": {},
   "outputs": [],
   "source": [
    "gre_pixels"
   ]
  },
  {
   "cell_type": "code",
   "execution_count": null,
   "metadata": {},
   "outputs": [],
   "source": []
  }
 ],
 "metadata": {
  "kernelspec": {
   "display_name": "Python 3",
   "language": "python",
   "name": "python3"
  },
  "language_info": {
   "codemirror_mode": {
    "name": "ipython",
    "version": 3
   },
   "file_extension": ".py",
   "mimetype": "text/x-python",
   "name": "python",
   "nbconvert_exporter": "python",
   "pygments_lexer": "ipython3",
   "version": "3.6.7"
  },
  "toc": {
   "base_numbering": 1,
   "nav_menu": {},
   "number_sections": true,
   "sideBar": true,
   "skip_h1_title": false,
   "title_cell": "Table of Contents",
   "title_sidebar": "Contents",
   "toc_cell": false,
   "toc_position": {},
   "toc_section_display": true,
   "toc_window_display": false
  }
 },
 "nbformat": 4,
 "nbformat_minor": 2
}
